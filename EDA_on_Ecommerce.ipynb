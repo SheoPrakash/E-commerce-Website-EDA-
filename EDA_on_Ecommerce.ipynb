{
 "cells": [
  {
   "cell_type": "code",
   "execution_count": null,
   "id": "45878d03-62ea-4245-8b6d-045065613973",
   "metadata": {},
   "outputs": [],
   "source": [
    "import pandas as pd\n",
    "import plotly.express as px\n",
    "import plotly.graph_objects as go\n",
    "import plotly.io as pio\n",
    "import plotly.colors as colors\n",
    "pio.templates.default = \"plotly_white\""
   ]
  },
  {
   "cell_type": "code",
   "execution_count": null,
   "id": "6391a1cb-90db-4cb6-a446-b2beae5a44d8",
   "metadata": {},
   "outputs": [],
   "source": [
    "data=pd.read_csv(\"Sample - Superstore.csv\",encoding='latin-1')\n"
   ]
  },
  {
   "cell_type": "code",
   "execution_count": null,
   "id": "aa03dac7-2f82-4cab-a2fb-5aabe9896043",
   "metadata": {},
   "outputs": [],
   "source": [
    "data.head()\n"
   ]
  },
  {
   "cell_type": "code",
   "execution_count": null,
   "id": "05c5fbb9-b9c8-43e5-af4c-50ff8ff45a3a",
   "metadata": {},
   "outputs": [],
   "source": [
    "data.describe()"
   ]
  },
  {
   "cell_type": "code",
   "execution_count": null,
   "id": "26722270-9c96-420a-bcd9-8ff30512602e",
   "metadata": {},
   "outputs": [],
   "source": [
    "data.info()"
   ]
  },
  {
   "cell_type": "code",
   "execution_count": null,
   "id": "7f06d80d-520a-42cb-9349-2b1ff47acef2",
   "metadata": {},
   "outputs": [],
   "source": [
    "#Changing the Order date from object to date formate\n",
    "data[\"Order Date\"]=pd.to_datetime(data[\"Order Date\"])\n",
    "data[\"Ship Date\"]=pd.to_datetime(data[\"Ship Date\"])"
   ]
  },
  {
   "cell_type": "code",
   "execution_count": null,
   "id": "e152b7fe-d117-4592-889b-9e9dc0903208",
   "metadata": {},
   "outputs": [],
   "source": [
    "data[\"Order Month\"]=data[\"Order Date\"].dt.month\n",
    "data[\"Order Year\"]=data[\"Order Date\"].dt.year\n",
    "data[\"Order Date of week\"]=data[\"Order Date\"].dt.dayofweek"
   ]
  },
  {
   "cell_type": "markdown",
   "id": "45c5148b-e300-49b9-89c0-6e2a3cceab12",
   "metadata": {},
   "source": [
    "# Monthly sales analysis"
   ]
  },
  {
   "cell_type": "code",
   "execution_count": null,
   "id": "0f4e6304-025a-4abe-a05d-7f6dbf3abc2f",
   "metadata": {},
   "outputs": [],
   "source": [
    "sales_by_month=data.groupby('Order Month')['Sales'].sum().reset_index()\n",
    "print(sales_by_month)\n",
    "fig=px.line(sales_by_month,x='Order Month',y='Sales',title='Monthly sales analysis')\n",
    "fig.show()"
   ]
  },
  {
   "cell_type": "markdown",
   "id": "02945ee3-e2cb-450f-bd1f-652f6356e4e9",
   "metadata": {},
   "source": [
    "# Sales by Category"
   ]
  },
  {
   "cell_type": "code",
   "execution_count": null,
   "id": "4e2f4f03-7e4e-4e58-b8a5-ad6b1ae78ad7",
   "metadata": {},
   "outputs": [],
   "source": [
    "sales_by_category=data.groupby(\"Category\")[\"Sales\"].sum().reset_index()\n",
    "print(sales_by_category)\n",
    "\n",
    "fig=px.pie(sales_by_category,values='Sales',names='Category',hole=0.25,color_discrete_sequence=px.colors.qualitative.Pastel)\n",
    "fig.update_traces(textposition='inside',textinfo='percent+label')\n",
    "fig.update_layout(title_text='Sales Analysis By Category',title_font=dict(size=24))\n",
    "fig.show()"
   ]
  },
  {
   "cell_type": "markdown",
   "id": "e9c341ce-37d0-4106-bce8-a740e5cde956",
   "metadata": {},
   "source": [
    "# Sales Analysis"
   ]
  },
  {
   "cell_type": "code",
   "execution_count": null,
   "id": "0f42d397-f896-4a7a-a744-0d40aef1b28a",
   "metadata": {},
   "outputs": [],
   "source": [
    "sales_by_subcategory=data.groupby(\"Sub-Category\")[\"Sales\"].sum().reset_index()\n",
    "print(sales_by_subcategory)"
   ]
  },
  {
   "cell_type": "code",
   "execution_count": null,
   "id": "2ff627e2-3e9f-4f3d-9298-29ed824f516a",
   "metadata": {},
   "outputs": [],
   "source": [
    "fig=px.bar(sales_by_subcategory,x='Sub-Category',y='Sales',title='Sales Analysis using sub Graph')\n",
    "fig.show()"
   ]
  },
  {
   "cell_type": "markdown",
   "id": "8c713b41-dc9b-4f22-b8e8-cd21786fd20b",
   "metadata": {},
   "source": [
    "# Monthly Profit Analysis"
   ]
  },
  {
   "cell_type": "code",
   "execution_count": null,
   "id": "a55579f8-aec7-4192-b7c9-41197b3c485d",
   "metadata": {},
   "outputs": [],
   "source": [
    "profit_by_month=data.groupby(\"Order Month\")[\"Profit\"].sum().reset_index()\n",
    "print(profit_by_month)"
   ]
  },
  {
   "cell_type": "code",
   "execution_count": null,
   "id": "22b134f0-66bc-4e9b-9a27-b33248984ef3",
   "metadata": {},
   "outputs": [],
   "source": [
    "fig=px.line(profit_by_month,x='Order Month',y='Profit',title='Monthly sales analysis')\n",
    "fig.show()"
   ]
  },
  {
   "cell_type": "markdown",
   "id": "8f8fe310-6137-41e0-be53-e222cbd23deb",
   "metadata": {},
   "source": [
    "# Profit By Category"
   ]
  },
  {
   "cell_type": "code",
   "execution_count": null,
   "id": "f17faa47-69dd-4acd-9e08-5f14057cde8f",
   "metadata": {},
   "outputs": [],
   "source": [
    "profit_by_category=data.groupby(\"Category\")[\"Profit\"].sum().reset_index()\n",
    "print(profit_by_category)"
   ]
  },
  {
   "cell_type": "code",
   "execution_count": null,
   "id": "730eace9-aa44-43fc-8313-b936e5249076",
   "metadata": {},
   "outputs": [],
   "source": [
    "fig=px.pie(profit_by_category,values='Profit',names='Category',hole=0.25,color_discrete_sequence=px.colors.qualitative.Pastel)\n",
    "fig.update_traces(textposition='inside',textinfo='percent+label')\n",
    "fig.update_layout(title_text='Sales Analysis By Category',title_font=dict(size=24))\n",
    "fig.show()"
   ]
  },
  {
   "cell_type": "markdown",
   "id": "067e44bc-8645-43fb-a251-545310da2dda",
   "metadata": {},
   "source": [
    "# Profit by Subcategory"
   ]
  },
  {
   "cell_type": "code",
   "execution_count": null,
   "id": "0acb16c4-a8e5-423e-a38d-208168f2152f",
   "metadata": {},
   "outputs": [],
   "source": [
    "profit_by_Subcategory=data.groupby(\"Sub-Category\")[\"Profit\"].sum().reset_index()\n",
    "print(profit_by_Subcategory)"
   ]
  },
  {
   "cell_type": "code",
   "execution_count": null,
   "id": "fe44f100-f40c-4a70-8617-84483e4a081d",
   "metadata": {},
   "outputs": [],
   "source": [
    "fig=px.bar(profit_by_Subcategory,x='Sub-Category',y='Profit',title='Sales Analysis using sub Graph')\n",
    "fig.show()"
   ]
  },
  {
   "cell_type": "markdown",
   "id": "11ce1789-89fa-48d8-b97a-aef83d86eb4c",
   "metadata": {},
   "source": [
    "# Sales and  Profit customer sagment"
   ]
  },
  {
   "cell_type": "code",
   "execution_count": null,
   "id": "0792a2cf-2dbe-44be-97f8-7d93e2f246b3",
   "metadata": {},
   "outputs": [],
   "source": [
    "data.head()"
   ]
  },
  {
   "cell_type": "code",
   "execution_count": null,
   "id": "4465b68c-444c-4508-8280-63dadec8c154",
   "metadata": {},
   "outputs": [],
   "source": [
    "sales_profit_by_segment = data.groupby('Segment').agg({'Sales': 'sum', 'Profit': 'sum'}).reset_index()\n",
    "\n",
    "color_palette = colors.qualitative.Pastel\n",
    "\n",
    "fig = go.Figure()\n",
    "fig.add_trace(go.Bar(\n",
    "    x=sales_profit_by_segment['Segment'],\n",
    "    y=sales_profit_by_segment['Sales'],\n",
    "    name='Sales',\n",
    "    marker_color=color_palette[0]\n",
    "))\n",
    "\n",
    "fig.add_trace(go.Bar(\n",
    "    x=sales_profit_by_segment['Segment'],\n",
    "    y=sales_profit_by_segment['Profit'],\n",
    "    name='Profit',\n",
    "    marker_color=color_palette[1]\n",
    "))\n",
    "\n",
    "fig.update_layout(\n",
    "    title='Sales and Profit Analysis by Customer Segment',\n",
    "    xaxis_title='Customer Segment',\n",
    "    yaxis_title='Amount'\n",
    ")\n",
    "\n",
    "fig.show()\n"
   ]
  },
  {
   "cell_type": "code",
   "execution_count": null,
   "id": "e4609083-c811-40e1-9869-775019124bae",
   "metadata": {},
   "outputs": [],
   "source": [
    "sales_profit_by_segment = data.groupby('Segment').agg({'Sales': 'sum', 'Profit': 'sum'}).reset_index()\n",
    "\n",
    "sales_profit_by_segment['Sales_to_Profit_Ratio'] = sales_profit_by_segment['Sales'] / sales_profit_by_segment['Profit']\n",
    "\n",
    "print(sales_profit_by_segment[['Segment', 'Sales_to_Profit_Ratio']])\n"
   ]
  },
  {
   "cell_type": "code",
   "execution_count": null,
   "id": "e7726a84-45c4-44b4-9a31-434b29de4530",
   "metadata": {},
   "outputs": [],
   "source": []
  },
  {
   "cell_type": "code",
   "execution_count": null,
   "id": "81cec426-2f69-481e-8d3a-6dbd5f65fa96",
   "metadata": {},
   "outputs": [],
   "source": []
  }
 ],
 "metadata": {
  "kernelspec": {
   "display_name": "Python 3 (ipykernel)",
   "language": "python",
   "name": "python3"
  },
  "language_info": {
   "codemirror_mode": {
    "name": "ipython",
    "version": 3
   },
   "file_extension": ".py",
   "mimetype": "text/x-python",
   "name": "python",
   "nbconvert_exporter": "python",
   "pygments_lexer": "ipython3",
   "version": "3.12.3"
  }
 },
 "nbformat": 4,
 "nbformat_minor": 5
}
